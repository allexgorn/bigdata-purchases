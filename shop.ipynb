{
  "nbformat": 4,
  "nbformat_minor": 0,
  "metadata": {
    "colab": {
      "provenance": []
    },
    "kernelspec": {
      "name": "python3",
      "display_name": "Python 3"
    },
    "language_info": {
      "name": "python"
    }
  },
  "cells": [
    {
      "cell_type": "markdown",
      "source": [
        "Установка зависимостей (пакетов)"
      ],
      "metadata": {
        "id": "For__ZS_A-yf"
      }
    },
    {
      "cell_type": "code",
      "execution_count": null,
      "metadata": {
        "id": "sl2JyUiab8BB"
      },
      "outputs": [],
      "source": [
        "!pip install pyspark\n",
        "!pip install install-jdk\n",
        "!pip install findspark"
      ]
    },
    {
      "cell_type": "markdown",
      "source": [
        "Генерация и обработка данных с применением PySpark"
      ],
      "metadata": {
        "id": "RRL3_d-DBC2a"
      }
    },
    {
      "cell_type": "code",
      "source": [
        "from pyspark.sql import SparkSession\n",
        "from pyspark.sql.types import IntegerType, StringType, DateType, StructType, StructField\n",
        "from random import *\n",
        "from datetime import *\n",
        "\n",
        "category = [\"Телевизор\", \"Компьютер\", \"Ноутбук\", \"Видеокамера\", \"Стереосистема\"]\n",
        "brands = [\"Samsung\", \"Honor\", \"Apple\", \"Lenovo\", \"Xiaomi\", \"Huawei\"]\n",
        "prefix_models = [\"ML\",\"MS\",\"DL\",\"NT\",\"WF\",\"PR\"]\n",
        "\n",
        "purchases = []\n",
        "for i in range(1,5001):\n",
        "    datestamp = date(2024, randint(1,7), randint(1,13))\n",
        "    user_id = randint(1,3000001)\n",
        "    product = f'{choice(category)} {choice(brands)} {choice(prefix_models)}-{randint(1000,500000)}'\n",
        "    count = randint(1,500)\n",
        "    price = randint(10000,80000)\n",
        "    purchases.append((datestamp, user_id, product, count, price))\n",
        "\n",
        "spark = SparkSession.builder.appName(\"Test\").getOrCreate()\n",
        "\n",
        "purchaseSchema = StructType([\n",
        "    StructField(\"Date\", DateType(), False),\n",
        "    StructField(\"UserID\", IntegerType(), False),\n",
        "    StructField(\"Product\", StringType(), False),\n",
        "    StructField(\"Count\", IntegerType(), False),\n",
        "    StructField(\"Price\", IntegerType(), False)\n",
        "])\n",
        "\n",
        "purchaseFrame = spark.createDataFrame(purchases, purchaseSchema)\n",
        "purchaseFrame.show()\n",
        "\n",
        "purchaseFrame.write.csv(\"purchases\", mode=\"overwrite\",header=True)\n",
        "\n",
        "spark.stop()\n"
      ],
      "metadata": {
        "id": "-pqYOwl4dcCZ",
        "colab": {
          "base_uri": "https://localhost:8080/"
        },
        "outputId": "c6732d46-373f-4ea7-f036-163d94f3a0bc"
      },
      "execution_count": 35,
      "outputs": [
        {
          "output_type": "stream",
          "name": "stdout",
          "text": [
            "+----------+-------+--------------------+-----+-----+\n",
            "|      Date| UserID|             Product|Count|Price|\n",
            "+----------+-------+--------------------+-----+-----+\n",
            "|2024-06-10| 559954|Стереосистема Xia...|  497|79427|\n",
            "|2024-06-11|2885106|Стереосистема Hon...|  315|51294|\n",
            "|2024-07-09| 389297|Стереосистема App...|  111|40984|\n",
            "|2024-03-13| 582071|Телевизор Lenovo ...|  270|48959|\n",
            "|2024-04-06|1676205|Стереосистема Hon...|  498|29194|\n",
            "|2024-03-05|2000522|Компьютер Honor M...|  315|79023|\n",
            "|2024-02-08|2371564|Стереосистема Xia...|   89|20479|\n",
            "|2024-04-12|1168215|Телевизор Apple M...|  286|39259|\n",
            "|2024-01-07| 581188|Видеокамера Huawe...|  490|65186|\n",
            "|2024-03-08|1512225|Ноутбук Lenovo MS...|   62|44236|\n",
            "|2024-06-01|2279660|Телевизор Huawei ...|  176|11887|\n",
            "|2024-04-08|2363383|Видеокамера Apple...|   10|77326|\n",
            "|2024-07-13| 995626|Телевизор Huawei ...|   64|47989|\n",
            "|2024-05-02|1517222|Телевизор Lenovo ...|  199|49093|\n",
            "|2024-04-07|2127249|Ноутбук Apple ML-...|  127|25958|\n",
            "|2024-07-04| 360337|Компьютер Samsung...|   40|34866|\n",
            "|2024-04-08|1442931|Компьютер Huawei ...|  429|30216|\n",
            "|2024-05-10|2479313|Стереосистема Len...|  179|36160|\n",
            "|2024-05-03|1388208|Телевизор Huawei ...|   44|32172|\n",
            "|2024-04-03| 289323|Ноутбук Xiaomi NT...|  424|39242|\n",
            "+----------+-------+--------------------+-----+-----+\n",
            "only showing top 20 rows\n",
            "\n"
          ]
        }
      ]
    }
  ]
}